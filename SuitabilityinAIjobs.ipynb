{
 "cells": [
  {
   "cell_type": "code",
   "execution_count": 101,
   "id": "07d6354b",
   "metadata": {},
   "outputs": [],
   "source": [
    "import numpy as np\n",
    "import pandas as pd\n",
    "from matplotlib import pyplot as plt"
   ]
  },
  {
   "cell_type": "code",
   "execution_count": 102,
   "id": "9a7a0246",
   "metadata": {},
   "outputs": [],
   "source": [
    "from random import randint"
   ]
  },
  {
   "cell_type": "code",
   "execution_count": 103,
   "id": "493c9647",
   "metadata": {},
   "outputs": [],
   "source": [
    "ll=[]"
   ]
  },
  {
   "cell_type": "code",
   "execution_count": 104,
   "id": "23d0b216",
   "metadata": {},
   "outputs": [],
   "source": [
    "for i in range(1,101):\n",
    "    l1.append(randint(0,5))\n",
    "    l1.append(randint(0,5))\n",
    "    l1.append(randint(0,5))\n",
    "    l1.append(randint(0,5))\n",
    "    l1.append(randint(0,5))"
   ]
  },
  {
   "cell_type": "code",
   "execution_count": 105,
   "id": "70e20b06",
   "metadata": {},
   "outputs": [
    {
     "name": "stdout",
     "output_type": "stream",
     "text": [
      "[1, 1, 3, 1, 0, 0, 5, 5, 0, 2, 5, 3, 4, 3, 1, 1, 0, 5, 0, 5, 1, 0, 2, 1, 0, 4, 4, 5, 1, 0, 1, 0, 0, 0, 1, 5, 3, 3, 4, 5, 2, 4, 3, 4, 2, 0, 3, 2, 4, 0, 2, 0, 2, 4, 5, 5, 3, 4, 1, 2, 0, 0, 1, 1, 0, 5, 4, 5, 5, 3, 1, 4, 2, 0, 5, 3, 1, 0, 0, 3, 1, 0, 0, 5, 4, 5, 4, 4, 5, 2, 3, 4, 0, 2, 1, 0, 3, 5, 1, 2, 0, 3, 1, 0, 1, 0, 4, 1, 5, 5, 1, 1, 1, 1, 5, 2, 4, 3, 1, 3, 3, 2, 4, 1, 0, 1, 3, 1, 0, 4, 1, 4, 5, 5, 2, 0, 4, 1, 1, 3, 0, 0, 2, 1, 5, 4, 4, 1, 3, 4, 5, 5, 2, 1, 2, 3, 3, 4, 4, 3, 0, 4, 5, 3, 3, 2, 4, 3, 1, 5, 4, 4, 2, 2, 1, 2, 2, 0, 5, 3, 3, 2, 3, 5, 0, 2, 0, 2, 5, 1, 4, 3, 5, 5, 3, 3, 0, 0, 1, 1, 0, 1, 5, 4, 0, 3, 2, 3, 3, 3, 4, 1, 0, 5, 2, 0, 5, 3, 0, 3, 1, 1, 5, 3, 1, 0, 4, 3, 3, 4, 1, 2, 5, 2, 1, 1, 4, 1, 2, 5, 2, 2, 3, 2, 2, 2, 1, 3, 5, 0, 1, 2, 4, 0, 4, 2, 5, 1, 0, 5, 3, 2, 5, 5, 4, 1, 0, 3, 3, 0, 2, 2, 4, 1, 3, 2, 5, 0, 2, 5, 4, 1, 4, 2, 1, 2, 4, 2, 1, 2, 0, 5, 4, 0, 3, 5, 5, 2, 1, 0, 5, 4, 5, 1, 5, 1, 3, 1, 3, 3, 2, 3, 0, 3, 1, 0, 3, 0, 2, 5, 5, 2, 5, 2, 5, 5, 2, 3, 3, 1, 0, 2, 0, 1, 0, 2, 5, 5, 0, 3, 3, 4, 0, 3, 1, 2, 5, 4, 0, 3, 0, 3, 1, 4, 1, 1, 5, 2, 2, 1, 4, 2, 5, 5, 5, 2, 2, 0, 0, 3, 0, 3, 2, 4, 1, 3, 1, 5, 0, 4, 5, 0, 5, 5, 1, 1, 3, 1, 3, 4, 0, 0, 0, 1, 2, 0, 3, 2, 5, 5, 3, 5, 5, 0, 1, 4, 1, 3, 2, 5, 1, 0, 4, 2, 0, 0, 5, 2, 5, 4, 5, 5, 0, 2, 0, 1, 5, 0, 5, 4, 5, 5, 3, 2, 3, 3, 1, 1, 5, 2, 3, 2, 1, 4, 5, 0, 4, 5, 4, 3, 4, 1, 5, 5, 3, 4, 1, 5, 4, 4, 5, 5, 2, 0, 1, 4, 0, 1, 2, 3, 0, 2, 0, 0, 3, 2, 3, 4, 0, 5, 0, 5, 3, 5, 2, 2, 4, 2, 0, 4, 2, 2, 4, 5, 1, 5, 5, 0, 0, 5]\n"
     ]
    }
   ],
   "source": [
    "print(l1)"
   ]
  },
  {
   "cell_type": "code",
   "execution_count": 100,
   "id": "2c473c56",
   "metadata": {},
   "outputs": [],
   "source": [
    "#l1.clear()"
   ]
  },
  {
   "cell_type": "code",
   "execution_count": 106,
   "id": "bf189622",
   "metadata": {},
   "outputs": [],
   "source": [
    "arr=np.array(l1).reshape(100,5)"
   ]
  },
  {
   "cell_type": "code",
   "execution_count": 107,
   "id": "f0fe78ef",
   "metadata": {},
   "outputs": [],
   "source": [
    "t=[]\n",
    "for i in range(0,100):\n",
    "    a=0\n",
    "    for j in range(0,5):\n",
    "        a=a+arr[i][j]\n",
    "    a=a/5\n",
    "    if(a>3):\n",
    "        t.append(1)\n",
    "    else:\n",
    "        t.append(0)\n",
    "        "
   ]
  },
  {
   "cell_type": "code",
   "execution_count": 99,
   "id": "a82fc190",
   "metadata": {},
   "outputs": [],
   "source": [
    "#t.clear()"
   ]
  },
  {
   "cell_type": "code",
   "execution_count": 108,
   "id": "110241ef",
   "metadata": {},
   "outputs": [],
   "source": [
    "df=pd.DataFrame(arr)"
   ]
  },
  {
   "cell_type": "code",
   "execution_count": 109,
   "id": "6b3e0408",
   "metadata": {},
   "outputs": [
    {
     "data": {
      "text/html": [
       "<div>\n",
       "<style scoped>\n",
       "    .dataframe tbody tr th:only-of-type {\n",
       "        vertical-align: middle;\n",
       "    }\n",
       "\n",
       "    .dataframe tbody tr th {\n",
       "        vertical-align: top;\n",
       "    }\n",
       "\n",
       "    .dataframe thead th {\n",
       "        text-align: right;\n",
       "    }\n",
       "</style>\n",
       "<table border=\"1\" class=\"dataframe\">\n",
       "  <thead>\n",
       "    <tr style=\"text-align: right;\">\n",
       "      <th></th>\n",
       "      <th>0</th>\n",
       "      <th>1</th>\n",
       "      <th>2</th>\n",
       "      <th>3</th>\n",
       "      <th>4</th>\n",
       "    </tr>\n",
       "  </thead>\n",
       "  <tbody>\n",
       "    <tr>\n",
       "      <th>0</th>\n",
       "      <td>1</td>\n",
       "      <td>1</td>\n",
       "      <td>3</td>\n",
       "      <td>1</td>\n",
       "      <td>0</td>\n",
       "    </tr>\n",
       "    <tr>\n",
       "      <th>1</th>\n",
       "      <td>0</td>\n",
       "      <td>5</td>\n",
       "      <td>5</td>\n",
       "      <td>0</td>\n",
       "      <td>2</td>\n",
       "    </tr>\n",
       "    <tr>\n",
       "      <th>2</th>\n",
       "      <td>5</td>\n",
       "      <td>3</td>\n",
       "      <td>4</td>\n",
       "      <td>3</td>\n",
       "      <td>1</td>\n",
       "    </tr>\n",
       "    <tr>\n",
       "      <th>3</th>\n",
       "      <td>1</td>\n",
       "      <td>0</td>\n",
       "      <td>5</td>\n",
       "      <td>0</td>\n",
       "      <td>5</td>\n",
       "    </tr>\n",
       "    <tr>\n",
       "      <th>4</th>\n",
       "      <td>1</td>\n",
       "      <td>0</td>\n",
       "      <td>2</td>\n",
       "      <td>1</td>\n",
       "      <td>0</td>\n",
       "    </tr>\n",
       "    <tr>\n",
       "      <th>...</th>\n",
       "      <td>...</td>\n",
       "      <td>...</td>\n",
       "      <td>...</td>\n",
       "      <td>...</td>\n",
       "      <td>...</td>\n",
       "    </tr>\n",
       "    <tr>\n",
       "      <th>95</th>\n",
       "      <td>2</td>\n",
       "      <td>3</td>\n",
       "      <td>4</td>\n",
       "      <td>0</td>\n",
       "      <td>5</td>\n",
       "    </tr>\n",
       "    <tr>\n",
       "      <th>96</th>\n",
       "      <td>0</td>\n",
       "      <td>5</td>\n",
       "      <td>3</td>\n",
       "      <td>5</td>\n",
       "      <td>2</td>\n",
       "    </tr>\n",
       "    <tr>\n",
       "      <th>97</th>\n",
       "      <td>2</td>\n",
       "      <td>4</td>\n",
       "      <td>2</td>\n",
       "      <td>0</td>\n",
       "      <td>4</td>\n",
       "    </tr>\n",
       "    <tr>\n",
       "      <th>98</th>\n",
       "      <td>2</td>\n",
       "      <td>2</td>\n",
       "      <td>4</td>\n",
       "      <td>5</td>\n",
       "      <td>1</td>\n",
       "    </tr>\n",
       "    <tr>\n",
       "      <th>99</th>\n",
       "      <td>5</td>\n",
       "      <td>5</td>\n",
       "      <td>0</td>\n",
       "      <td>0</td>\n",
       "      <td>5</td>\n",
       "    </tr>\n",
       "  </tbody>\n",
       "</table>\n",
       "<p>100 rows × 5 columns</p>\n",
       "</div>"
      ],
      "text/plain": [
       "    0  1  2  3  4\n",
       "0   1  1  3  1  0\n",
       "1   0  5  5  0  2\n",
       "2   5  3  4  3  1\n",
       "3   1  0  5  0  5\n",
       "4   1  0  2  1  0\n",
       ".. .. .. .. .. ..\n",
       "95  2  3  4  0  5\n",
       "96  0  5  3  5  2\n",
       "97  2  4  2  0  4\n",
       "98  2  2  4  5  1\n",
       "99  5  5  0  0  5\n",
       "\n",
       "[100 rows x 5 columns]"
      ]
     },
     "execution_count": 109,
     "metadata": {},
     "output_type": "execute_result"
    }
   ],
   "source": [
    "df"
   ]
  },
  {
   "cell_type": "code",
   "execution_count": 110,
   "id": "27343bd0",
   "metadata": {},
   "outputs": [],
   "source": [
    "#LOK -> Level Of Knowledge\n",
    "df.columns=[\"LOK in Python\",\"LOK in ML\",\"LOK in AI\",\"LOK in DL\",\"LOK in SQL\"]"
   ]
  },
  {
   "cell_type": "code",
   "execution_count": 111,
   "id": "5b96f9cb",
   "metadata": {},
   "outputs": [],
   "source": [
    "df['Target']=t"
   ]
  },
  {
   "cell_type": "code",
   "execution_count": 112,
   "id": "f98d1816",
   "metadata": {},
   "outputs": [
    {
     "data": {
      "text/html": [
       "<div>\n",
       "<style scoped>\n",
       "    .dataframe tbody tr th:only-of-type {\n",
       "        vertical-align: middle;\n",
       "    }\n",
       "\n",
       "    .dataframe tbody tr th {\n",
       "        vertical-align: top;\n",
       "    }\n",
       "\n",
       "    .dataframe thead th {\n",
       "        text-align: right;\n",
       "    }\n",
       "</style>\n",
       "<table border=\"1\" class=\"dataframe\">\n",
       "  <thead>\n",
       "    <tr style=\"text-align: right;\">\n",
       "      <th></th>\n",
       "      <th>LOK in Python</th>\n",
       "      <th>LOK in ML</th>\n",
       "      <th>LOK in AI</th>\n",
       "      <th>LOK in DL</th>\n",
       "      <th>LOK in SQL</th>\n",
       "      <th>Target</th>\n",
       "    </tr>\n",
       "  </thead>\n",
       "  <tbody>\n",
       "    <tr>\n",
       "      <th>0</th>\n",
       "      <td>1</td>\n",
       "      <td>1</td>\n",
       "      <td>3</td>\n",
       "      <td>1</td>\n",
       "      <td>0</td>\n",
       "      <td>0</td>\n",
       "    </tr>\n",
       "    <tr>\n",
       "      <th>1</th>\n",
       "      <td>0</td>\n",
       "      <td>5</td>\n",
       "      <td>5</td>\n",
       "      <td>0</td>\n",
       "      <td>2</td>\n",
       "      <td>0</td>\n",
       "    </tr>\n",
       "    <tr>\n",
       "      <th>2</th>\n",
       "      <td>5</td>\n",
       "      <td>3</td>\n",
       "      <td>4</td>\n",
       "      <td>3</td>\n",
       "      <td>1</td>\n",
       "      <td>1</td>\n",
       "    </tr>\n",
       "    <tr>\n",
       "      <th>3</th>\n",
       "      <td>1</td>\n",
       "      <td>0</td>\n",
       "      <td>5</td>\n",
       "      <td>0</td>\n",
       "      <td>5</td>\n",
       "      <td>0</td>\n",
       "    </tr>\n",
       "    <tr>\n",
       "      <th>4</th>\n",
       "      <td>1</td>\n",
       "      <td>0</td>\n",
       "      <td>2</td>\n",
       "      <td>1</td>\n",
       "      <td>0</td>\n",
       "      <td>0</td>\n",
       "    </tr>\n",
       "    <tr>\n",
       "      <th>...</th>\n",
       "      <td>...</td>\n",
       "      <td>...</td>\n",
       "      <td>...</td>\n",
       "      <td>...</td>\n",
       "      <td>...</td>\n",
       "      <td>...</td>\n",
       "    </tr>\n",
       "    <tr>\n",
       "      <th>95</th>\n",
       "      <td>2</td>\n",
       "      <td>3</td>\n",
       "      <td>4</td>\n",
       "      <td>0</td>\n",
       "      <td>5</td>\n",
       "      <td>0</td>\n",
       "    </tr>\n",
       "    <tr>\n",
       "      <th>96</th>\n",
       "      <td>0</td>\n",
       "      <td>5</td>\n",
       "      <td>3</td>\n",
       "      <td>5</td>\n",
       "      <td>2</td>\n",
       "      <td>0</td>\n",
       "    </tr>\n",
       "    <tr>\n",
       "      <th>97</th>\n",
       "      <td>2</td>\n",
       "      <td>4</td>\n",
       "      <td>2</td>\n",
       "      <td>0</td>\n",
       "      <td>4</td>\n",
       "      <td>0</td>\n",
       "    </tr>\n",
       "    <tr>\n",
       "      <th>98</th>\n",
       "      <td>2</td>\n",
       "      <td>2</td>\n",
       "      <td>4</td>\n",
       "      <td>5</td>\n",
       "      <td>1</td>\n",
       "      <td>0</td>\n",
       "    </tr>\n",
       "    <tr>\n",
       "      <th>99</th>\n",
       "      <td>5</td>\n",
       "      <td>5</td>\n",
       "      <td>0</td>\n",
       "      <td>0</td>\n",
       "      <td>5</td>\n",
       "      <td>0</td>\n",
       "    </tr>\n",
       "  </tbody>\n",
       "</table>\n",
       "<p>100 rows × 6 columns</p>\n",
       "</div>"
      ],
      "text/plain": [
       "    LOK in Python  LOK in ML  LOK in AI  LOK in DL  LOK in SQL  Target\n",
       "0               1          1          3          1           0       0\n",
       "1               0          5          5          0           2       0\n",
       "2               5          3          4          3           1       1\n",
       "3               1          0          5          0           5       0\n",
       "4               1          0          2          1           0       0\n",
       "..            ...        ...        ...        ...         ...     ...\n",
       "95              2          3          4          0           5       0\n",
       "96              0          5          3          5           2       0\n",
       "97              2          4          2          0           4       0\n",
       "98              2          2          4          5           1       0\n",
       "99              5          5          0          0           5       0\n",
       "\n",
       "[100 rows x 6 columns]"
      ]
     },
     "execution_count": 112,
     "metadata": {},
     "output_type": "execute_result"
    }
   ],
   "source": [
    "df"
   ]
  },
  {
   "cell_type": "code",
   "execution_count": 113,
   "id": "7cb98420",
   "metadata": {},
   "outputs": [],
   "source": [
    "x=df.iloc[:,:-1]\n",
    "y=df.iloc[:,-1]"
   ]
  },
  {
   "cell_type": "code",
   "execution_count": 117,
   "id": "e78ed051",
   "metadata": {},
   "outputs": [],
   "source": [
    "from sklearn.model_selection import train_test_split\n",
    "x_tr,x_te,y_tr,y_te=train_test_split(x,y,test_size=0.2,random_state=0)"
   ]
  },
  {
   "cell_type": "code",
   "execution_count": 119,
   "id": "278db50d",
   "metadata": {},
   "outputs": [
    {
     "name": "stdout",
     "output_type": "stream",
     "text": [
      "Training score: 0.9625\n",
      "Testing Score: 0.95\n"
     ]
    }
   ],
   "source": [
    "#LOGISTIC REGRESSION\n",
    "from sklearn.linear_model import LogisticRegression\n",
    "model=LogisticRegression()\n",
    "model.fit(x_tr,y_tr)\n",
    "print(\"Training score:\",model.score(x_tr,y_tr))\n",
    "print(\"Testing Score:\",model.score(x_te,y_te))"
   ]
  },
  {
   "cell_type": "code",
   "execution_count": 126,
   "id": "772e5102",
   "metadata": {},
   "outputs": [
    {
     "name": "stdout",
     "output_type": "stream",
     "text": [
      "Accuracy is :  0.85\n"
     ]
    }
   ],
   "source": [
    "#KNN\n",
    "from sklearn.neighbors import KNeighborsClassifier\n",
    "from sklearn.metrics import confusion_matrix,accuracy_score,classification_report\n",
    "model=KNeighborsClassifier(3)\n",
    "model.fit(x_tr,y_tr)\n",
    "y_pred=model.predict(x_te)\n",
    "print(\"Accuracy is : \",accuracy_score(y_pred,y_te))"
   ]
  },
  {
   "cell_type": "code",
   "execution_count": 127,
   "id": "9a3d9a1c",
   "metadata": {},
   "outputs": [
    {
     "name": "stdout",
     "output_type": "stream",
     "text": [
      "[[15  3]\n",
      " [ 0  2]]\n"
     ]
    }
   ],
   "source": [
    "print(confusion_matrix(y_pred,y_te))"
   ]
  },
  {
   "cell_type": "code",
   "execution_count": 128,
   "id": "f937a3dc",
   "metadata": {},
   "outputs": [
    {
     "name": "stdout",
     "output_type": "stream",
     "text": [
      "              precision    recall  f1-score   support\n",
      "\n",
      "           0       1.00      0.83      0.91        18\n",
      "           1       0.40      1.00      0.57         2\n",
      "\n",
      "    accuracy                           0.85        20\n",
      "   macro avg       0.70      0.92      0.74        20\n",
      "weighted avg       0.94      0.85      0.88        20\n",
      "\n"
     ]
    }
   ],
   "source": [
    "print(classification_report(y_pred,y_te))"
   ]
  },
  {
   "cell_type": "code",
   "execution_count": null,
   "id": "9699b580",
   "metadata": {},
   "outputs": [],
   "source": []
  }
 ],
 "metadata": {
  "kernelspec": {
   "display_name": "Python 3 (ipykernel)",
   "language": "python",
   "name": "python3"
  },
  "language_info": {
   "codemirror_mode": {
    "name": "ipython",
    "version": 3
   },
   "file_extension": ".py",
   "mimetype": "text/x-python",
   "name": "python",
   "nbconvert_exporter": "python",
   "pygments_lexer": "ipython3",
   "version": "3.10.9"
  }
 },
 "nbformat": 4,
 "nbformat_minor": 5
}
